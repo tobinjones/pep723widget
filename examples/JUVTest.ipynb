{
 "cells": [
  {
   "cell_type": "code",
   "execution_count": null,
   "id": "84287ee1",
   "metadata": {
    "jupyter": {
     "source_hidden": true
    }
   },
   "outputs": [],
   "source": [
    "# /// script\n",
    "# requires-python = \">=3.13\"\n",
    "# dependencies = [\n",
    "#     \"rich\",\n",
    "# ]\n",
    "# ///"
   ]
  },
  {
   "cell_type": "code",
   "execution_count": null,
   "id": "49001ccb-2781-4da1-8ae7-f0a8cff34930",
   "metadata": {},
   "outputs": [],
   "source": []
  }
 ],
 "metadata": {
  "kernelspec": {
   "display_name": "Python 3 (ipykernel)",
   "language": "python",
   "name": "python3"
  },
  "language_info": {
   "codemirror_mode": {
    "name": "ipython",
    "version": 3
   },
   "file_extension": ".py",
   "mimetype": "text/x-python",
   "name": "python",
   "nbconvert_exporter": "python",
   "pygments_lexer": "ipython3",
   "version": "3.13.5"
  },
  "uv.lock": "version = 1\nrevision = 2\nrequires-python = \">=3.13\"\n\n[manifest]\nrequirements = [{ name = \"rich\" }]\n\n[[package]]\nname = \"markdown-it-py\"\nversion = \"3.0.0\"\nsource = { registry = \"https://pypi.org/simple\" }\ndependencies = [\n    { name = \"mdurl\" },\n]\nsdist = { url = \"https://files.pythonhosted.org/packages/38/71/3b932df36c1a044d397a1f92d1cf91ee0a503d91e470cbd670aa66b07ed0/markdown-it-py-3.0.0.tar.gz\", hash = \"sha256:e3f60a94fa066dc52ec76661e37c851cb232d92f9886b15cb560aaada2df8feb\", size = 74596, upload-time = \"2023-06-03T06:41:14.443Z\" }\nwheels = [\n    { url = \"https://files.pythonhosted.org/packages/42/d7/1ec15b46af6af88f19b8e5ffea08fa375d433c998b8a7639e76935c14f1f/markdown_it_py-3.0.0-py3-none-any.whl\", hash = \"sha256:355216845c60bd96232cd8d8c40e8f9765cc86f46880e43a8fd22dc1a1a8cab1\", size = 87528, upload-time = \"2023-06-03T06:41:11.019Z\" },\n]\n\n[[package]]\nname = \"mdurl\"\nversion = \"0.1.2\"\nsource = { registry = \"https://pypi.org/simple\" }\nsdist = { url = \"https://files.pythonhosted.org/packages/d6/54/cfe61301667036ec958cb99bd3efefba235e65cdeb9c84d24a8293ba1d90/mdurl-0.1.2.tar.gz\", hash = \"sha256:bb413d29f5eea38f31dd4754dd7377d4465116fb207585f97bf925588687c1ba\", size = 8729, upload-time = \"2022-08-14T12:40:10.846Z\" }\nwheels = [\n    { url = \"https://files.pythonhosted.org/packages/b3/38/89ba8ad64ae25be8de66a6d463314cf1eb366222074cfda9ee839c56a4b4/mdurl-0.1.2-py3-none-any.whl\", hash = \"sha256:84008a41e51615a49fc9966191ff91509e3c40b939176e643fd50a5c2196b8f8\", size = 9979, upload-time = \"2022-08-14T12:40:09.779Z\" },\n]\n\n[[package]]\nname = \"pygments\"\nversion = \"2.19.2\"\nsource = { registry = \"https://pypi.org/simple\" }\nsdist = { url = \"https://files.pythonhosted.org/packages/b0/77/a5b8c569bf593b0140bde72ea885a803b82086995367bf2037de0159d924/pygments-2.19.2.tar.gz\", hash = \"sha256:636cb2477cec7f8952536970bc533bc43743542f70392ae026374600add5b887\", size = 4968631, upload-time = \"2025-06-21T13:39:12.283Z\" }\nwheels = [\n    { url = \"https://files.pythonhosted.org/packages/c7/21/705964c7812476f378728bdf590ca4b771ec72385c533964653c68e86bdc/pygments-2.19.2-py3-none-any.whl\", hash = \"sha256:86540386c03d588bb81d44bc3928634ff26449851e99741617ecb9037ee5ec0b\", size = 1225217, upload-time = \"2025-06-21T13:39:07.939Z\" },\n]\n\n[[package]]\nname = \"rich\"\nversion = \"14.0.0\"\nsource = { registry = \"https://pypi.org/simple\" }\ndependencies = [\n    { name = \"markdown-it-py\" },\n    { name = \"pygments\" },\n]\nsdist = { url = \"https://files.pythonhosted.org/packages/a1/53/830aa4c3066a8ab0ae9a9955976fb770fe9c6102117c8ec4ab3ea62d89e8/rich-14.0.0.tar.gz\", hash = \"sha256:82f1bc23a6a21ebca4ae0c45af9bdbc492ed20231dcb63f297d6d1021a9d5725\", size = 224078, upload-time = \"2025-03-30T14:15:14.23Z\" }\nwheels = [\n    { url = \"https://files.pythonhosted.org/packages/0d/9b/63f4c7ebc259242c89b3acafdb37b41d1185c07ff0011164674e9076b491/rich-14.0.0-py3-none-any.whl\", hash = \"sha256:1c9491e1951aac09caffd42f448ee3d04e58923ffe14993f6e83068dc395d7e0\", size = 243229, upload-time = \"2025-03-30T14:15:12.283Z\" },\n]\n"
 },
 "nbformat": 4,
 "nbformat_minor": 5
}