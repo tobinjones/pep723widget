{
 "cells": [
  {
   "cell_type": "code",
   "execution_count": null,
   "id": "1bcd103f-e1d9-4482-91bd-dd3cf66fd1ad",
   "metadata": {},
   "outputs": [],
   "source": []
  }
 ],
 "metadata": {
  "kernelspec": {
   "display_name": "Python 3 (ipykernel)",
   "language": "python",
   "name": "python3"
  },
  "language_info": {
   "codemirror_mode": {
    "name": "ipython",
    "version": 3
   },
   "file_extension": ".py",
   "mimetype": "text/x-python",
   "name": "python",
   "nbconvert_exporter": "python",
   "pygments_lexer": "ipython3",
   "version": "3.13.5"
  },
  "uv.lock": "version = 1\nrevision = 2\nrequires-python = \">=3.13\"\n"
 },
 "nbformat": 4,
 "nbformat_minor": 5
}
